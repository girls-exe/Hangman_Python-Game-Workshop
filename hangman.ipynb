{
  "nbformat": 4,
  "nbformat_minor": 0,
  "metadata": {
    "colab": {
      "name": "hangman2.py",
      "provenance": [],
      "collapsed_sections": []
    },
    "kernelspec": {
      "name": "python3",
      "display_name": "Python 3"
    },
    "language_info": {
      "name": "python"
    }
  },
  "cells": [
    {
      "cell_type": "markdown",
      "metadata": {
        "id": "Dk5hHIrPmzWu"
      },
      "source": [
        "Random is a built in python module that can be used to perform some action randomly. In this case, it can randomly select a word from our list of words for the player to guess.\n",
        "The string module contains a number of functions to process standard Python strings."
      ]
    },
    {
      "cell_type": "code",
      "metadata": {
        "id": "i8aeyIhjaUGI"
      },
      "source": [
        "\n",
        "import random\n",
        "\n",
        "words = ['Mumbai','New York','New Delhi','Goa','London']\n",
        "import string\n"
      ],
      "execution_count": null,
      "outputs": []
    },
    {
      "cell_type": "markdown",
      "metadata": {
        "id": "d3MofRNzkEeW"
      },
      "source": [
        "\n",
        "Define a function called 'get_valid_word', which should take in the list 'words' as an argument. Write a return statement at the end, and return the word in capital letters.(hint: use the .upper function.)"
      ]
    },
    {
      "cell_type": "code",
      "metadata": {
        "id": "OOi_pMKFar6U"
      },
      "source": [
        "#Define the function here.\n",
        "    word = random.choice(words)  # randomly chooses something from the list of words\n",
        "    #This loop ensures that as long as there is a '-' or ' ' in the word, it keeps choosing the word.\n",
        "    #This means that when the loop stops iterating, we will get a word that doesn't have a '-' or a ' '.\n",
        "    while '-' in word or ' ' in word: \n",
        "        word = random.choice(words)\n",
        "\n",
        "    #Type your return statement here. "
      ],
      "execution_count": null,
      "outputs": []
    },
    {
      "cell_type": "markdown",
      "metadata": {
        "id": "WJ3N0-71mEk3"
      },
      "source": [
        "Define a function called hangman. Call the get_valid_word function on the list 'words'.\n",
        "Write 'if statements' that provide clues for each city mentioned in the list 'words'.\n"
      ]
    },
    {
      "cell_type": "code",
      "metadata": {
        "id": "6zFy3QjMa8Mc"
      },
      "source": [
        "#Define the function here.\n",
        "    print(\"You will be guessing the name of a city, you will have one clue and you must enter one letter at a time.\")\n",
        "    #Call the function get_valid_word here.\n",
        "    \n",
        "    if word == 'MUMBAI':\n",
        "        print(\"CLUE - The commercial capital of India\")\n",
        "\n",
        "    elif word == 'NEW YORK':\n",
        "        print(\"CLUE - The statue of Liberty is here\")\n",
        "\n",
        "    #Start typing the 3 elif statements here.(For NEW DELHI, GOA and LONDON.)\n",
        "    \n",
        "    #A set is a mutable collection of distinct hashable objects, same as the list and tuple.\n",
        "    #It is an unordered collection of objects, meaning it does not record element position or order of insertion and so cannot access elements using indexes.\n",
        "   \n",
        "    word_letters = set(word)  # letters in the word\n",
        "    alphabet = set(string.ascii_uppercase)\n",
        "    used_letters = set()  # what the user has guessed\n",
        "\n",
        "    lives = 7\n",
        "\n",
        "    #Allows the user to keep guessing, as long as lives are greater than 0.\n",
        "    while len(word_letters) > 0 and lives > 0:\n",
        "        \n",
        "        #This tells the user the letters they have already used.\n",
        "        # ' '.join(['a', 'b', 'cd']) --> 'a b cd'\n",
        "        \n",
        "        print('You have', lives, 'lives left and you have used these letters: ', ' '.join(used_letters))\n",
        "\n",
        "        #This shows the user what the current word is.(ie W - R D)\n",
        "        #word_list is a list that shows the letters the user has guessed, and puts dashes in place of the letters they haven't guessed yet.\n",
        "       \n",
        "        word_list = [letter if letter in used_letters else '-' for letter in word]\n",
        "        \n",
        "        \n",
        "        print('Current word: ', ' '.join(word_list)) \n",
        "\n",
        "        #User inputs a letter.\n",
        "        user_letter = input('Guess a letter: ').upper()\n",
        "       \n",
        "        #Write an if statement to check if 'used_letter' is a valid character in the alphabet that hasn't been used yet.(hint: alphabet - used_letters)\n",
        "        #Type here.\n",
        "            used_letters.add(user_letter)\n",
        "            #Similarly, check if 'used_letter' is in 'word_letters', and if yes then remove that 'used_letter' from the set 'word_letters'.\n",
        "            #Hint: Use a function called .remove instead of .add which was used previously.\n",
        "            #Type here.\n",
        "                \n",
        "                \n",
        "                print('')\n",
        "\n",
        "            else:\n",
        "                #Takes away a life since the user guessed the wrong letter.\n",
        "                lives = lives - 1  \n",
        "                print('\\nYour letter,', user_letter, 'is not in the word.')\n",
        "\n",
        "        elif user_letter in used_letters:\n",
        "            print('\\nYou have already used that letter. Guess another letter.')\n",
        "\n",
        "        else:\n",
        "            print('\\nThat is not a valid letter.')\n",
        "\n",
        "    #Exits the while loop when len(word_letters) == 0 OR when lives == 0\n",
        "    if lives == 0:\n",
        "        \n",
        "        print('You died, sorry. The word was', word)\n",
        "    else:\n",
        "        print('YAY! You guessed the word', word, '!!')\n",
        "\n",
        "\n",
        "if __name__ == '__main__':\n",
        "    hangman()  \n",
        "\n"
      ],
      "execution_count": null,
      "outputs": []
    }
  ]
}